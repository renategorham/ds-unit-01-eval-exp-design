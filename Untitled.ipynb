{
 "cells": [
  {
   "cell_type": "markdown",
   "metadata": {},
   "source": [
    "# Challenge: Evaluate an experiment analysis  \n",
    "Unit 1 / Lesson 4 / Project 4"
   ]
  },
  {
   "cell_type": "markdown",
   "metadata": {},
   "source": [
    "##### The Sith Lords are concerned that their recruiting slogan, \"Give In to Your Anger,\" isn't very effective. Darth Vader develops an alternative slogan, \"Together We Can Rule the Galaxy.\" They compare the slogans on two groups of 50 captured droids each. In one group, Emperor Palpatine delivers the \"Anger\" slogan. In the other, Darth Vader presents the \"Together\" slogan. 20 droids convert to the Dark Side after hearing Palpatine's slogan, while only 5 droids convert after hearing Vader's. The Sith's data scientist concludes that \"Anger\" is a more effective slogan and should continue to be used. \n",
    "\n",
    "1) Assuming the droids have free will and can make decisions independent from their owners, There is no indication that the samples are equivalent in terms of demographics and socio-economic factors (if applicable to droids). For example, the Empoeror's sample may include more infantry droids, compared with Vader's droids (which could include more diplomatic droids). The  original program of the droid may influence response to any slogan.  \n",
    "\n",
    "2) To correct this flaw, the samples should be carefully selected to assure the mix mirrors each other as well as the population.  \n"
   ]
  },
  {
   "cell_type": "markdown",
   "metadata": {},
   "source": [
    "##### In the past, the Jedi have had difficulty with public relations. They send two envoys, Jar Jar Binks and Mace Windu, to four friendly and four unfriendly planets respectively, with the goal of promoting favorable feelings toward the Jedi. Upon their return, the envoys learn that Jar Jar was much more effective than Windu: Over 75% of the people surveyed said their attitudes had become more favorable after speaking with Jar Jar, while only 65% said their attitudes had become more favorable after speaking with Windu. This makes Windu angry, because he is sure that he had a better success rate than Jar Jar on every planet. The Jedi choose Jar Jar to be their representative in the future.  \n",
    "1) This design is disadvantaged with a conditional bias. Jar Jar was sent to four friendly planets, which already have some favorable attitudes and likely are more easily moved to be more favorable. Windu was sent to unfriendly planets, unfriendly existing attitudes, and more difficult to convince.  \n",
    "\n",
    "2) The experiment should be redesigned so each ambassador is sent to two friendly and two unfriendly planets each.  With the state of hyperspnace technology, this should not add any additional costs or time to the study.  "
   ]
  },
  {
   "cell_type": "markdown",
   "metadata": {},
   "source": [
    "##### A company with work sites in five different countries has sent you data on employee satisfaction rates for workers in Human Resources and workers in Information Technology. Most HR workers are concentrated in three of the countries, while IT workers are equally distributed across worksites. The company requests a report on satisfaction for each job type. You calculate average job satisfaction for HR and for IT and present the report.  \n",
    "1) Assume between group analysis, so that the hypothesis of the study is that job satisfaction differs between the two functions and that from the comparison there can be a meaningful action, i.e, IT workers are more satisfied, so that if HR workers received like support satisfaction would increase. The two functions differ in their grouping, contextual bias. \n",
    "\n",
    "2) Restrict the analysis to within differences, job satisfaction within HR workers by country and job satisfaction within IT workers by job site.  Act to increase job satisfaction within groups. OR modify the study, so that HR and IT workers are sampled from the same grouping, either country or job site."
   ]
  },
  {
   "cell_type": "markdown",
   "metadata": {},
   "source": [
    "##### When people install the Happy Days Fitness Tracker app, they are asked to \"opt in\" to a data collection scheme where their level of physical activity data is automatically sent to the company for product research purposes. During your interview with the company, they tell you that the app is very effective because after installing the app, the data show that people's activity levels rise steadily.   \n",
    "1) *Post hoc, ergo propter hoc* - customer who purchase the fitness app may not be any more motivated than a person who does not purchase the app.  No control condition was set up to make a fair comparison.  \n",
    "\n",
    "2) Design a study with a control condition, activity levels of people who intend to increase fitness, but do not purchase the app. And maybe a third condition, people who purchase the app, but do not opt in to data collection. It could be that the intent to increase fitness is more important than purchasing a fitness app with respect to increasing fitness levels."
   ]
  },
  {
   "cell_type": "markdown",
   "metadata": {},
   "source": [
    "##### To prevent cheating, a teacher writes three versions of a test. She stacks the three versions together, first all copies of Version A, then all copies of Version B, then all copies of Version C. As students arrive for the exam, each student takes a test. When grading the test, the teacher finds that students who took Version B scored higher than students who took either Version A or Version C. She concludes from this that Version B is easier, and discards it.  \n",
    "1) There is no real randomness in assigning students a test version, assignment is more haphazard. It is possible that more of the better test takers arrived at the time version B was assigned. Also, the teachers goal was to prevent cheating, not compare test versions, she should test weather cheating was reduced.  \n",
    "\n",
    "2) If the teacher really wanted to compare test versions, she should randomly assign test versions, maybe even along three tranches, low scorers, mid-scorers, and high scorers."
   ]
  },
  {
   "cell_type": "code",
   "execution_count": null,
   "metadata": {},
   "outputs": [],
   "source": []
  }
 ],
 "metadata": {
  "kernelspec": {
   "display_name": "Python 3",
   "language": "python",
   "name": "python3"
  },
  "language_info": {
   "codemirror_mode": {
    "name": "ipython",
    "version": 3
   },
   "file_extension": ".py",
   "mimetype": "text/x-python",
   "name": "python",
   "nbconvert_exporter": "python",
   "pygments_lexer": "ipython3",
   "version": "3.7.0"
  },
  "toc": {
   "base_numbering": 1,
   "nav_menu": {},
   "number_sections": true,
   "sideBar": true,
   "skip_h1_title": true,
   "title_cell": "",
   "title_sidebar": "Contents",
   "toc_cell": false,
   "toc_position": {},
   "toc_section_display": true,
   "toc_window_display": true
  }
 },
 "nbformat": 4,
 "nbformat_minor": 2
}
